{
 "cells": [
  {
   "cell_type": "markdown",
   "metadata": {},
   "source": [
    "# Metodi non supervisionati\n",
    "\n",
    "I **metodi non supervisionati** tentano di classificare e raggruppare dei dati non avendo a disposizione una label iniziale che permetta di impostare una classificazione. I metodi principali sono:\n",
    "* clustering: utiliziamo paramettri come la distanza o la densità\n",
    "* analisi delle associazioni"
   ]
  },
  {
   "cell_type": "markdown",
   "metadata": {},
   "source": [
    "## Clustering\n",
    "è il raggruppamento delle unità statistiche dato un insieme di variabili.\n",
    "\n",
    "è un metodo di **analisi esplorativa**, e i gruppi vengono creati in base alla distanza del dataset.\n",
    "I metodi di clustering sono:\n",
    "* clustering gerarchico\n",
    "* basato sulla densità\n",
    "* basato sul modello\n",
    "* k-means\n",
    "\n",
    "i criteri utilizzati per determinare la similarità tra i gruppi sono:\n",
    "* la distanza euclidea\n",
    "* la correlation similarity di Pearson\n",
    "* la distanza di Manhattan\n",
    "* la distanza di Ward: minimizza la varianza della distanza inter-cluster, misurata dalla somma degli errori al quadrato tra i punti del cluster e il loro centroide\n",
    "* coseno\n",
    "* la distanza singola: si basa sulla distanza minima tra due cluster\n",
    "* la distanza completa: si basa sulla distanza massima tra due cluster"
   ]
  }
 ],
 "metadata": {
  "kernelspec": {
   "display_name": "Python 3",
   "language": "python",
   "name": "python3"
  },
  "language_info": {
   "codemirror_mode": {
    "name": "ipython",
    "version": 3
   },
   "file_extension": ".py",
   "mimetype": "text/x-python",
   "name": "python",
   "nbconvert_exporter": "python",
   "pygments_lexer": "ipython3",
   "version": "3.5.4"
  }
 },
 "nbformat": 4,
 "nbformat_minor": 2
}
